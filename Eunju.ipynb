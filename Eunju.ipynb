{
 "cells": [
  {
   "cell_type": "code",
   "execution_count": null,
   "metadata": {},
   "outputs": [],
   "source": [
    "#기본 모듈 불러오기\n",
    "import os\n",
    "import json\n",
    "import pandas as pd\n",
    "from pandas import json_normalize\n",
    "import numpy as np\n",
    "import matplotlib.pyplot as plt\n",
    "import seaborn as sns\n",
    "\n",
    "from sklearn.preprocessing import LabelEncoder"
   ]
  },
  {
   "cell_type": "markdown",
   "metadata": {},
   "source": [
    "# 전처리\n",
    "- json 형태 값 -> 데이터 프레임으로 변환\n",
    "- 'date','visitStartTime': datetime으로 변경\n",
    "    - 'visitStartTime' : POSIX time (협정 세계시 1970년 1월 1일 00:00:00부터 경과한 시간을 초로 환산)\n",
    "- 범주형 변수 인코딩"
   ]
  },
  {
   "cell_type": "code",
   "execution_count": null,
   "metadata": {},
   "outputs": [],
   "source": [
    "# json 형태 -> 데이터 프레임으로 변환\n",
    "def load_df(csv_path='../input/train.csv', nrows=None):\n",
    "    JSON_COLUMNS = ['device', 'geoNetwork', 'totals', 'trafficSource'] \n",
    "    \n",
    "    df = pd.read_csv(csv_path, \n",
    "                     converters={column: json.loads for column in JSON_COLUMNS}, \n",
    "                     dtype={'fullVisitorId': 'str'},\n",
    "                     nrows=nrows)\n",
    "    \n",
    "    for column in JSON_COLUMNS:\n",
    "        column_as_df = pd.json_normalize(df[column])\n",
    "        column_as_df.columns = [f\"{column}_{subcolumn}\" for subcolumn in column_as_df.columns]\n",
    "        df = df.drop(column, axis=1).merge(column_as_df, right_index=True, left_index=True)\n",
    "    print(f\"Loaded {os.path.basename(csv_path)}. Shape: {df.shape}\")\n",
    "    return df\n",
    "\n",
    "train_df = load_df('C:/Users/82104/Desktop/스파르타_데이터부트캠프/VSCODE/과제2/train.csv')"
   ]
  },
  {
   "cell_type": "code",
   "execution_count": null,
   "metadata": {},
   "outputs": [],
   "source": [
    "# 열 drop\n",
    "df = train_df.drop(['socialEngagementType','visitId','sessionId','device_browser','device_browserVersion','device_operatingSystem','device_browserSize','device_operatingSystemVersion',\n",
    "        'device_mobileDeviceBranding','device_mobileDeviceModel','device_mobileInputSelector','device_mobileDeviceInfo','device_mobileDeviceMarketingName',\n",
    "        'device_flashVersion','device_language','device_screenColors','device_screenResolution','geoNetwork_subContinent','geoNetwork_region','geoNetwork_metro',\n",
    "        'geoNetwork_city','geoNetwork_cityId','geoNetwork_networkDomain','geoNetwork_networkLocation',\n",
    "        'trafficSource_adwordsClickInfo.criteriaParameters','trafficSource_referralPath','trafficSource_adwordsClickInfo.page','trafficSource_adwordsClickInfo.gclId',\n",
    "        'trafficSource_adwordsClickInfo.isVideoAd','trafficSource_adContent','trafficSource_campaignCode'], axis=1)\n"
   ]
  },
  {
   "cell_type": "code",
   "execution_count": null,
   "metadata": {},
   "outputs": [],
   "source": [
    "# date 열 int형 -> 날짜형으로 변경\n",
    "df['date'] = pd.to_datetime(df['date'],format='%Y%m%d')\n",
    "df['visitStartTime'] = pd.to_datetime(df['visitStartTime'],unit='s')\n",
    "\n",
    "\n",
    "#int형으로 변환\n",
    "# 값이 없는 cell 전처리\n",
    "df['totals_visits'] = df['totals_visits'].fillna(0)\n",
    "df['totals_hits'] = df['totals_hits'].fillna(0)\n",
    "df['totals_pageviews'] = df['totals_pageviews'].fillna(0)\n",
    "df['totals_bounces'] = df['totals_bounces'].fillna(0)\n",
    "df['totals_newVisits'] = df['totals_newVisits'].fillna(0)\n",
    "df['totals_transactionRevenue'] = df['totals_transactionRevenue'].fillna(0)\n",
    "\n",
    "# int변환\n",
    "df['totals_visits'] = df['totals_visits'].astype(int)\n",
    "df['totals_hits'] = df['totals_hits'].astype(int)\n",
    "df['totals_pageviews'] = df['totals_pageviews'].astype(int)\n",
    "df['totals_bounces'] = df['totals_bounces'].astype(int)\n",
    "df['totals_newVisits'] = df['totals_newVisits'].astype(int)\n",
    "df['totals_transactionRevenue'] = df['totals_transactionRevenue'].astype(float)\n",
    "\n",
    "#df['totals_transactionRevenue'] = np.power(df['totals_transactionRevenue'], 1/6).round(2)\n"
   ]
  },
  {
   "cell_type": "code",
   "execution_count": null,
   "metadata": {},
   "outputs": [],
   "source": [
    "# 범주형 변수 -> 수치형 변수로 변환\n",
    "# 인코딩 하는 이유: 범주형 변수를 넣는 경우 에러가 발생할 수 있어 수치형으로 변환하는 과정이 필요하다\n",
    "\n",
    "# 라벨인코딩\n",
    "\"\"\"\n",
    "label_encoder = LabelEncoder()\n",
    "object_cols = df.select_dtypes(include=['object']).columns\n",
    "for col in object_cols:\n",
    "    df[col] = label_encoder.fit_transform(df[col])\n",
    "\n",
    "df.head(3)\n",
    "\"\"\""
   ]
  },
  {
   "cell_type": "markdown",
   "metadata": {},
   "source": [
    "## 요일, 시간대별 사용자\n",
    "- 0: 월요일, 1: 화요일, ..., 6: 일요일"
   ]
  },
  {
   "cell_type": "code",
   "execution_count": null,
   "metadata": {},
   "outputs": [],
   "source": [
    "df['day_of_week'] = df['date'].dt.dayofweek\n",
    "df['hour_of_day'] = df['visitStartTime'].dt.hour\n"
   ]
  },
  {
   "cell_type": "code",
   "execution_count": null,
   "metadata": {},
   "outputs": [],
   "source": [
    "# 각 요일별 사용자 수 계산\n",
    "users_per_day = df.groupby('day_of_week')['fullVisitorId'].nunique()\n",
    "\n",
    "# 그래프 그리기\n",
    "plt.figure(figsize=(10, 6))\n",
    "users_per_day.plot(kind='bar', color='skyblue')\n",
    "plt.title('Number of Users per Day of the Week')\n",
    "plt.xlabel('Day of the Week')\n",
    "plt.ylabel('Number of Users')\n",
    "plt.xticks(range(7), ['Mon', 'Tue', 'Wed', 'Thu', 'Fri', 'Sat', 'Sun'])\n",
    "plt.show()"
   ]
  },
  {
   "cell_type": "code",
   "execution_count": null,
   "metadata": {},
   "outputs": [],
   "source": [
    "# 각 시간대별 이용자 수 계산\n",
    "users_per_hour = df.groupby('hour_of_day')['fullVisitorId'].nunique()\n",
    "\n",
    "# 그래프 그리기\n",
    "plt.figure(figsize=(10, 6))\n",
    "users_per_hour.plot(kind='bar', color='skyblue')\n",
    "plt.title('Number of Users per Hour of the Day')\n",
    "plt.xlabel('Hour of the Day')\n",
    "plt.ylabel('Number of Users')\n",
    "plt.xticks(rotation=45)\n",
    "plt.show()"
   ]
  },
  {
   "cell_type": "code",
   "execution_count": null,
   "metadata": {},
   "outputs": [],
   "source": [
    "# x축: 시간 y축: 요일\n",
    "pivot_table = df.pivot_table(index='day_of_week', columns='hour_of_day', values='fullVisitorId', aggfunc='count')\n",
    "\n",
    "plt.figure(figsize=(10, 6))\n",
    "sns.heatmap(pivot_table, cmap='Blues', annot=False, fmt='d')\n",
    "plt.title('Number of Users by Hour and Day of the Week')\n",
    "plt.xlabel('Hour of the Day')\n",
    "plt.ylabel('Day of the Week')\n",
    "plt.xticks(rotation=45)\n",
    "plt.yticks(range(7), ['Mon', 'Tue', 'Wed', 'Thu', 'Fri', 'Sat', 'Sun'])\n",
    "plt.show()"
   ]
  },
  {
   "cell_type": "markdown",
   "metadata": {},
   "source": [
    "## DAU /WAU /MAU 구하기"
   ]
  },
  {
   "cell_type": "code",
   "execution_count": null,
   "metadata": {},
   "outputs": [],
   "source": [
    "# 날짜 정리\n",
    "import datetime as dt \n",
    "df['date_of_day']= df['visitStartTime'].dt.date\n",
    "df['date_of_weekday']= df['visitStartTime'].dt.isocalendar().week\n",
    "df['date_of_month']= df['visitStartTime'].dt.month\n",
    "df['date_of_year']= df['visitStartTime'].dt.year\n"
   ]
  },
  {
   "cell_type": "markdown",
   "metadata": {},
   "source": [
    "### DAU"
   ]
  },
  {
   "cell_type": "code",
   "execution_count": null,
   "metadata": {},
   "outputs": [],
   "source": [
    "#DAU 구하기\n",
    "df_DAU = df.groupby(df['date_of_day'])['fullVisitorId'].nunique()\n",
    "\n",
    "plt.figure(figsize=(12,6))\n",
    "df_DAU.plot(kind='line',legend='fullVisitorId')\n",
    "plt.xlabel('Day')\n",
    "plt.ylabel('User')\n",
    "plt.legend()\n",
    "plt.title('Day Active Users(DAU)')"
   ]
  },
  {
   "cell_type": "code",
   "execution_count": null,
   "metadata": {},
   "outputs": [],
   "source": [
    "# 대륙별 DAU\n",
    "df_DAU2 = df.groupby(['date_of_day','geoNetwork_continent'])['fullVisitorId'].nunique()\n",
    "\n",
    "#df_DAU2.to_csv('대륙별.csv')"
   ]
  },
  {
   "cell_type": "markdown",
   "metadata": {},
   "source": [
    "## 지역별 유저 수"
   ]
  },
  {
   "cell_type": "code",
   "execution_count": null,
   "metadata": {},
   "outputs": [],
   "source": [
    "df_user = df.groupby(df['geoNetwork_continent'])['fullVisitorId'].nunique()\n",
    "df_user = df_user.reset_index()\n",
    "df_user.head(1)"
   ]
  },
  {
   "cell_type": "code",
   "execution_count": null,
   "metadata": {},
   "outputs": [],
   "source": [
    "plt.figure(figsize=(6, 6))  # 차트 크기 설정 (선택사항)\n",
    "plt.pie(df_user['fullVisitorId'], labels=df_user['geoNetwork_continent'], autopct='%1.1f%%', startangle=140)\n",
    "\n",
    "# 차트 제목 설정 (선택사항)\n",
    "plt.title('Pie Chart Example')\n",
    "\n",
    "# 차트 표시\n",
    "plt.axis('equal')  # 원형으로 만들기 위해 가로세로 비율을 동일하게 설정\n",
    "plt.show()"
   ]
  },
  {
   "cell_type": "markdown",
   "metadata": {},
   "source": [
    "### WAU\n",
    "- 31주차 ~ : 2016년\n",
    "- 1 ~ 30주차 : 2017년"
   ]
  },
  {
   "cell_type": "code",
   "execution_count": null,
   "metadata": {},
   "outputs": [],
   "source": [
    "#WAU 구하기\n",
    "\n",
    "df_WAU = df.groupby(df['date_of_weekday'])['fullVisitorId'].nunique()\n",
    "\n",
    "plt.figure(figsize=(12,6))\n",
    "df_WAU.plot(kind='line',legend='fullVisitorId')\n",
    "plt.xlabel('Week')\n",
    "plt.ylabel('User')\n",
    "plt.legend()\n",
    "plt.title('Week Active Users(WAU)')"
   ]
  },
  {
   "cell_type": "markdown",
   "metadata": {},
   "source": [
    "## MAU\n",
    "- 8월 ~ 12월: 2016년\n",
    "- 1월 ~ 7월 : 2017년"
   ]
  },
  {
   "cell_type": "code",
   "execution_count": null,
   "metadata": {},
   "outputs": [],
   "source": [
    "#MAU 구하기\n",
    "df_MAU = df.groupby(df['date_of_month'])['fullVisitorId'].nunique()\n",
    "\n",
    "plt.figure(figsize=(12,6))\n",
    "df_MAU.plot(kind='line',legend='fullVisitorId')\n",
    "plt.xlabel('Month')\n",
    "plt.ylabel('User')\n",
    "plt.legend()\n",
    "plt.title('Month Active Users(MAU)')"
   ]
  },
  {
   "cell_type": "code",
   "execution_count": null,
   "metadata": {},
   "outputs": [],
   "source": [
    "# 새로운 도전 중\n"
   ]
  },
  {
   "cell_type": "markdown",
   "metadata": {},
   "source": [
    "## Stickiness"
   ]
  },
  {
   "cell_type": "code",
   "execution_count": null,
   "metadata": {},
   "outputs": [],
   "source": [
    "\"\"\"\n",
    "df_DAU = df_DAU.reset_index()\n",
    "df_WAU = df_WAU.reset_index()\n",
    "df_MAU = df_MAU.reset_index()\n",
    "\"\"\""
   ]
  },
  {
   "cell_type": "code",
   "execution_count": null,
   "metadata": {},
   "outputs": [],
   "source": [
    "df_DAU['date_of_day'] = pd.to_datetime(df_DAU['date_of_day'],format='%Y%m%d')\n",
    "df_DAU['month'] = df_DAU['date_of_day'].dt.month\n",
    "df_DAU['week'] = df_DAU['date_of_day'].dt.isocalendar().week\n",
    "\n",
    "df_merge = pd.merge(df_DAU,df_WAU,left_on='week',right_on='date_of_weekday')\n",
    "df_merge = pd.merge(df_merge,df_MAU,left_on='month',right_on='date_of_month')\n",
    "\n",
    "# Stickiness(w) = DAU / WAU\n",
    "df_merge['Stickiness(w)'] = round(df_merge['fullVisitorId_x'] / df_merge['fullVisitorId_y'] * 100,2)\n",
    "\n",
    "# Stickiness(m) = DAU / MAU\n",
    "df_merge['Stickiness(m)'] = round(df_merge['fullVisitorId_x'] / df_merge['fullVisitorId'] * 100,2)\n",
    "\n",
    "print('Stickiness(w) : ',round(df_merge['Stickiness(w)'].mean(),2) ,'Stickiness(m) : ',round(df_merge['Stickiness(m)'].mean(),2))\n"
   ]
  },
  {
   "cell_type": "markdown",
   "metadata": {},
   "source": [
    "### DAU와 구매 전환률"
   ]
  },
  {
   "cell_type": "code",
   "execution_count": 27,
   "metadata": {},
   "outputs": [
    {
     "data": {
      "text/html": [
       "<div>\n",
       "<style scoped>\n",
       "    .dataframe tbody tr th:only-of-type {\n",
       "        vertical-align: middle;\n",
       "    }\n",
       "\n",
       "    .dataframe tbody tr th {\n",
       "        vertical-align: top;\n",
       "    }\n",
       "\n",
       "    .dataframe thead th {\n",
       "        text-align: right;\n",
       "    }\n",
       "</style>\n",
       "<table border=\"1\" class=\"dataframe\">\n",
       "  <thead>\n",
       "    <tr style=\"text-align: right;\">\n",
       "      <th></th>\n",
       "      <th>date_of_day</th>\n",
       "      <th>fullVisitorId_revenue</th>\n",
       "    </tr>\n",
       "  </thead>\n",
       "  <tbody>\n",
       "    <tr>\n",
       "      <th>0</th>\n",
       "      <td>2016-08-01</td>\n",
       "      <td>29</td>\n",
       "    </tr>\n",
       "    <tr>\n",
       "      <th>1</th>\n",
       "      <td>2016-08-02</td>\n",
       "      <td>22</td>\n",
       "    </tr>\n",
       "    <tr>\n",
       "      <th>2</th>\n",
       "      <td>2016-08-04</td>\n",
       "      <td>12</td>\n",
       "    </tr>\n",
       "    <tr>\n",
       "      <th>3</th>\n",
       "      <td>2016-08-05</td>\n",
       "      <td>42</td>\n",
       "    </tr>\n",
       "    <tr>\n",
       "      <th>4</th>\n",
       "      <td>2016-08-06</td>\n",
       "      <td>11</td>\n",
       "    </tr>\n",
       "    <tr>\n",
       "      <th>...</th>\n",
       "      <td>...</td>\n",
       "      <td>...</td>\n",
       "    </tr>\n",
       "    <tr>\n",
       "      <th>361</th>\n",
       "      <td>2017-07-29</td>\n",
       "      <td>18</td>\n",
       "    </tr>\n",
       "    <tr>\n",
       "      <th>362</th>\n",
       "      <td>2017-07-30</td>\n",
       "      <td>22</td>\n",
       "    </tr>\n",
       "    <tr>\n",
       "      <th>363</th>\n",
       "      <td>2017-07-31</td>\n",
       "      <td>55</td>\n",
       "    </tr>\n",
       "    <tr>\n",
       "      <th>364</th>\n",
       "      <td>2017-08-01</td>\n",
       "      <td>50</td>\n",
       "    </tr>\n",
       "    <tr>\n",
       "      <th>365</th>\n",
       "      <td>2017-08-02</td>\n",
       "      <td>6</td>\n",
       "    </tr>\n",
       "  </tbody>\n",
       "</table>\n",
       "<p>366 rows × 2 columns</p>\n",
       "</div>"
      ],
      "text/plain": [
       "    date_of_day  fullVisitorId_revenue\n",
       "0    2016-08-01                     29\n",
       "1    2016-08-02                     22\n",
       "2    2016-08-04                     12\n",
       "3    2016-08-05                     42\n",
       "4    2016-08-06                     11\n",
       "..          ...                    ...\n",
       "361  2017-07-29                     18\n",
       "362  2017-07-30                     22\n",
       "363  2017-07-31                     55\n",
       "364  2017-08-01                     50\n",
       "365  2017-08-02                      6\n",
       "\n",
       "[366 rows x 2 columns]"
      ]
     },
     "execution_count": 27,
     "metadata": {},
     "output_type": "execute_result"
    }
   ],
   "source": [
    "df_positive_revenue = df[df['totals_transactionRevenue'] > 0]\n",
    "df_revenue = df_positive_revenue.groupby('date_of_day')['fullVisitorId'].nunique()\n",
    "\n",
    "df_revenue = df_revenue.reset_index()\n",
    "\n",
    "df_revenue.columns = ['date_of_day','fullVisitorId_revenue']\n",
    "df_revenue"
   ]
  },
  {
   "cell_type": "code",
   "execution_count": 30,
   "metadata": {},
   "outputs": [],
   "source": [
    "df_DAU_revenue = pd.concat([df_DAU,df_revenue],axis=1)\n",
    "df_DAU_revenue['Conversion Rate'] = df_DAU_revenue['fullVisitorId_revenue'] / df_DAU_revenue['fullVisitorId'] * 100\n",
    "#df_DAU_revenue.to_csv('rate.csv')"
   ]
  },
  {
   "cell_type": "markdown",
   "metadata": {},
   "source": [
    "## 방문 주차에 따른 코호트 생성 및 weekly 리텐션 구하기\n",
    "- 보유 데이터: 2016.8.1 ~ 2017.8.1"
   ]
  },
  {
   "cell_type": "code",
   "execution_count": null,
   "metadata": {},
   "outputs": [],
   "source": [
    "# 유저들이 평균 몇일 뒤 재 방문 하는지 확인하기\n",
    "\n",
    "#fullVisitorId,date 기준으로 정렬하기\n",
    "df_sorted = df.sort_values(['fullVisitorId', 'date'])\n",
    "\n",
    "#유저별 방문 간격 계산\n",
    "df_sorted['visit_interval'] = df_sorted.groupby('fullVisitorId')['date'].diff().dt.days\n",
    "\n",
    "# 재방문하지 않은 유저 없애기\n",
    "df_sorted = df_sorted.dropna(subset=['visit_interval'])\n",
    "df_sorted = df_sorted[df_sorted['visit_interval'] != 0]\n",
    "\n",
    "# 각 유저 평균 재방문 날짜 구하기\n",
    "mean_return_interval = df_sorted.groupby('fullVisitorId')['visit_interval'].mean()\n",
    "overall_mean_return_interval = mean_return_interval.mean()\n",
    "\n",
    "print(mean_return_interval)\n",
    "print(overall_mean_return_interval)"
   ]
  },
  {
   "cell_type": "code",
   "execution_count": null,
   "metadata": {},
   "outputs": [],
   "source": [
    "df_sorted.head(3)"
   ]
  }
 ],
 "metadata": {
  "kernelspec": {
   "display_name": "Python 3",
   "language": "python",
   "name": "python3"
  },
  "language_info": {
   "codemirror_mode": {
    "name": "ipython",
    "version": 3
   },
   "file_extension": ".py",
   "mimetype": "text/x-python",
   "name": "python",
   "nbconvert_exporter": "python",
   "pygments_lexer": "ipython3",
   "version": "3.8.6"
  }
 },
 "nbformat": 4,
 "nbformat_minor": 2
}
